{
 "cells": [
  {
   "cell_type": "code",
   "execution_count": null,
   "metadata": {},
   "outputs": [],
   "source": [
    "import pandas as pd\n",
    "\n",
    "from utils.conditioning import get_conditioning_deltas\n",
    "from utils.routing import get_route_factor_adjustments, get_route_number\n",
    "from utils.packaging import get_packaging_changes, construct_package_routes\n",
    "from utils.material_mass import calculate_material_mass,calculate_haz_material_mass\n",
    "from utils.activity_limits import evaluate_activity_limits"
   ]
  },
  {
   "cell_type": "code",
   "execution_count": null,
   "metadata": {},
   "outputs": [],
   "source": [
    "filename = \"packages_input.xlsx\"\n",
    "data = pd.read_excel(filename, skiprows=[0], sheet_name=\"Data\")\n",
    "routing_factors = pd.read_excel(filename, sheet_name=\"Routing\").fillna(0)\n",
    "packages = pd.read_excel(filename, sheet_name=\"Packages\", skiprows=[0])\n",
    "rads = pd.read_excel(filename, sheet_name=\"Rads\", skiprows=[0])\n",
    "\n",
    "radionucleide_column_indices = range(9, 12) # 0-indexed column numbers for any radionucleide activity values\n",
    "radionucleide_cols = [data.columns[c] for c in radionucleide_column_indices]\n",
    "\n",
    "# The packages sheet can be simplified by taking only the primary package definitions and defining secondary state packaging seperately\n",
    "packages = packages[list(packages.columns[:8]) + [packages.columns[-1]]]\n",
    "package_routes = [(\"Drum\", \"Stillage\"),\n",
    "                  (\"Shielded drum\", \"No Package\"),\n",
    "                  (\"4m box\", \"No Package\"),\n",
    "                  (\"3m box\", \"No Package\"),\n",
    "                  (\"No Package\", \"No Package\"),\n",
    "                  (\"Stillage\", \"No Package\")]\n",
    "\n",
    "package_routes_df = construct_package_routes(package_routes, packages)"
   ]
  },
  {
   "cell_type": "code",
   "execution_count": null,
   "metadata": {},
   "outputs": [],
   "source": [
    "data[\"Route Number\"] = get_route_number(data[\"Waste Stream\"])\n",
    "data[\"Mass\"] = data[\"Density\"] * data[\"Volume\"]\n",
    "data.fillna({c: 0 for c in radionucleide_cols}, inplace=True)\n",
    "\n",
    "unpackaged_type = \"No Package\"\n",
    "data[\"Package type\"].fillna(unpackaged_type, inplace=True)\n",
    "\n",
    "# Any remaining null conditioning factors must be set according to package type\n",
    "default_factors = data.merge(packages, left_on=\"Package type\", right_on=\"Package type\", how=\"left\")[[\"Default conditioning factor\", \"Default packing factor\"]]\n",
    "data[\"Conditioning factor\"].fillna(default_factors[\"Default conditioning factor\"], inplace=True)\n",
    "\n",
    "# Any null packaging factors must be set according to package type\n",
    "data[\"Packaging factor\"].fillna(default_factors[\"Default packing factor\"], inplace=True)"
   ]
  },
  {
   "cell_type": "code",
   "execution_count": null,
   "metadata": {},
   "outputs": [],
   "source": [
    "hazardous_material_masses = calculate_haz_material_mass(data, hazardous_material_col=['Haz'])\n",
    "\n",
    "non_hazardous_material_cols = ['Steel', 'Not steel']\n",
    "non_hazardous_material_masses = calculate_material_mass(streams=data, non_hazardous_material_cols=non_hazardous_material_cols)"
   ]
  },
  {
   "cell_type": "code",
   "execution_count": null,
   "metadata": {},
   "outputs": [],
   "source": [
    "animal_radioactivity_limits = rads.set_index('Rad')['Animals']\n",
    "animal_radioactivity_limits = pd.to_numeric(animal_radioactivity_limits,errors= 'coerce')"
   ]
  },
  {
   "cell_type": "code",
   "execution_count": null,
   "metadata": {},
   "outputs": [],
   "source": [
    "animal_activity_limits =  evaluate_activity_limits(data, radionucleide_cols, animal_radioactivity_limits)\n",
    "animal_activity_limits['Waste Stream'] = data['Waste Stream']"
   ]
  },
  {
   "cell_type": "code",
   "execution_count": null,
   "metadata": {},
   "outputs": [],
   "source": [
    "route_adjusted_data = data.copy(deep=True) # make a copy so we can preserve output at each step\n",
    "\n",
    "route_adjustment_values = get_route_factor_adjustments(streams=data, route_factors=routing_factors, radionucleide_cols=radionucleide_cols)\n",
    "route_adjusted_data[route_adjustment_values.columns] = route_adjustment_values\n",
    "route_adjusted_data\n",
    "\n",
    "route_adjusted_data[non_hazardous_material_cols] = non_hazardous_material_masses[non_hazardous_material_cols]\n",
    "route_adjusted_data['Haz'] = hazardous_material_masses['Haz']"
   ]
  },
  {
   "cell_type": "code",
   "execution_count": null,
   "metadata": {},
   "outputs": [],
   "source": [
    "conditional_changes = get_conditioning_deltas(route_adjusted_data)\n",
    "\n",
    "conditioned_data = route_adjusted_data.copy(deep=True)\n",
    "conditioned_data[\"Volume\"] += conditional_changes[\"Volume Delta\"]\n",
    "conditioned_data[\"Mass\"] += conditional_changes[\"Mass Delta\"]\n",
    "conditioned_data[\"Conditioning material\"] = conditional_changes[\"Conditioning material\"]"
   ]
  },
  {
   "cell_type": "code",
   "execution_count": null,
   "metadata": {},
   "outputs": [],
   "source": [
    "packing_changes = get_packaging_changes(conditioned_data, package_routes_df)\n",
    "\n",
    "packed_data = conditioned_data.copy(deep=True)\n",
    "packed_data[\"Volume\"] = packing_changes[\"Secondary Packaged Volume\"]\n",
    "packed_data[\"Mass\"] = packed_data[\"Mass\"] + packing_changes[\"Primary Mass Delta\"] + packing_changes[\"Secondary Mass Delta\"]"
   ]
  },
  {
   "cell_type": "code",
   "execution_count": null,
   "metadata": {},
   "outputs": [],
   "source": [
    "with pd.ExcelWriter('output.xlsx') as writer:\n",
    "    data.to_excel(writer, sheet_name='input')\n",
    "    conditioned_data.to_excel(writer, sheet_name='conditioned')\n",
    "    packed_data.to_excel(writer, sheet_name='packaged')\n",
    "    animal_activity_limits.to_excel(writer, sheet_name= 'SoF assessment')"
   ]
  },
  {
   "cell_type": "markdown",
   "metadata": {},
   "source": []
  }
 ],
 "metadata": {
  "kernelspec": {
   "display_name": ".venv",
   "language": "python",
   "name": "python3"
  },
  "language_info": {
   "codemirror_mode": {
    "name": "ipython",
    "version": 3
   },
   "file_extension": ".py",
   "mimetype": "text/x-python",
   "name": "python",
   "nbconvert_exporter": "python",
   "pygments_lexer": "ipython3",
   "version": "3.9.10"
  },
  "orig_nbformat": 4
 },
 "nbformat": 4,
 "nbformat_minor": 2
}
